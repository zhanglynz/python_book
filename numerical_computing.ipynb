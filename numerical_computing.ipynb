{
 "cells": [
  {
   "cell_type": "markdown",
   "metadata": {},
   "source": [
    "# Numerical Computing\n",
    "\n",
    "## Find number of digits\n",
    "\n",
    "**Problem:** Write a function, where the input is an integer number and the output is the number of digits of this number."
   ]
  },
  {
   "cell_type": "code",
   "execution_count": 7,
   "metadata": {},
   "outputs": [
    {
     "name": "stdout",
     "output_type": "stream",
     "text": [
      "5\n",
      "4\n",
      "1\n"
     ]
    }
   ],
   "source": [
    "# Method 1\n",
    "\n",
    "from math import log, floor\n",
    "def find_nbr_of_digits_1(an_int) :\n",
    "    try:\n",
    "        return floor(log(an_int, 10)) + 1\n",
    "    except :\n",
    "        return 1    \n",
    "\n",
    "## test\n",
    "print(find_nbr_of_digits_1(12345))\n",
    "print(find_nbr_of_digits_1(2 ** 10))\n",
    "print(find_nbr_of_digits_1(0))"
   ]
  },
  {
   "cell_type": "code",
   "execution_count": 8,
   "metadata": {},
   "outputs": [
    {
     "name": "stdout",
     "output_type": "stream",
     "text": [
      "5\n",
      "4\n",
      "1\n"
     ]
    }
   ],
   "source": [
    "# Method 2\n",
    "\n",
    "def find_nbr_of_digits_2(an_int) :\n",
    "    c = 0\n",
    "    while True :\n",
    "        an_int = an_int // 10\n",
    "        c = c + 1\n",
    "        if an_int == 0 :\n",
    "            break\n",
    "    return c\n",
    "\n",
    "## test\n",
    "print(find_nbr_of_digits_2(12345))\n",
    "print(find_nbr_of_digits_2(2 ** 10)) \n",
    "print(find_nbr_of_digits_2(0))   "
   ]
  },
  {
   "cell_type": "markdown",
   "metadata": {},
   "source": [
    "## The first Fibonacci number greater than m\n",
    " \n",
    "**Problem:** Let F_n be the n-th Fibonacci number. Find n, such that F_n >= m, where m >= 1."
   ]
  },
  {
   "cell_type": "code",
   "execution_count": 10,
   "metadata": {},
   "outputs": [
    {
     "name": "stdout",
     "output_type": "stream",
     "text": [
      "21\n",
      "1\n"
     ]
    }
   ],
   "source": [
    "def find_fibo_index(m) :\n",
    "    f1 = 1\n",
    "    f2 = 1\n",
    "    i = 2\n",
    "    if m == 1 :\n",
    "        return 1\n",
    "    else:\n",
    "        while True:\n",
    "            f = f1 + f2\n",
    "            i = i + 1\n",
    "            if f >= m :\n",
    "                break\n",
    "            f1 = f2\n",
    "            f2 = f\n",
    "        return i\n",
    "\n",
    "## test\n",
    "print(find_fibo_index(10000))\n",
    "print(find_fibo_index(1))"
   ]
  },
  {
   "cell_type": "markdown",
   "metadata": {},
   "source": [
    "## Long division\n",
    "\n",
    "**Problem:** Find n / d, where both n and d are integers but d cannot be 0."
   ]
  },
  {
   "cell_type": "code",
   "execution_count": 2,
   "metadata": {},
   "outputs": [
    {
     "name": "stdout",
     "output_type": "stream",
     "text": [
      "[[0, 5], ['No repeat']]\n",
      "[[0, 3], {'Repeat starts position': 2}]\n",
      "[[0, 1, 6], {'Repeat starts position': 3}]\n",
      "[[0, 1, 4, 2, 8, 5, 7], {'Repeat starts position': 2}]\n",
      "[[10, 0], ['No repeat']]\n",
      "[[6, 6], {'Repeat starts position': 2}]\n",
      "[[3, 3], {'Repeat starts position': 2}]\n",
      "[[2, 8, 5, 7, 1, 4, 2], {'Repeat starts position': 2}]\n",
      "[[8, 6, 5, 2, 1, 7, 3, 9, 1, 3, 0, 4, 3, 4, 7, 8, 2, 6, 0, 8, 6, 9, 5], {'Repeat starts position': 2}]\n"
     ]
    }
   ],
   "source": [
    "def long_div(n, d) :\n",
    "    q_list = list()\n",
    "    r_list = list()\n",
    "    # initial\n",
    "    q = n // d\n",
    "    r = n % d\n",
    "    q_list.append(q)\n",
    "    r_list.append(r)\n",
    "    if r == 0 :\n",
    "        return [[q, r], ['No repeat']]\n",
    "    else :\n",
    "        c = 0\n",
    "        while True :\n",
    "            n = 10 * r\n",
    "            q = n // d\n",
    "            r = n % d\n",
    "            q_list.append(q)\n",
    "            r_list.append(r)\n",
    "            c = c + 1\n",
    "            if (r in r_list[:c]) or r == 0 :\n",
    "                break\n",
    "        if r_list[-1] == 0 :\n",
    "            the_re = [q_list, ['No repeat']]\n",
    "        else :\n",
    "            m = len(r_list)\n",
    "            for i in range(m - 1) :\n",
    "                if r_list[i] == r_list[-1] :\n",
    "                    the_re = [q_list, {\"Repeat starts position\": i + 2}] \n",
    "                    break\n",
    "        return the_re\n",
    "\n",
    "## test\n",
    "print(long_div(1, 2))\n",
    "print(long_div(1, 3))\n",
    "print(long_div(1, 6))\n",
    "print(long_div(1, 7))\n",
    "print(long_div(20, 2))\n",
    "print(long_div(20, 3))\n",
    "print(long_div(20, 6))\n",
    "print(long_div(20, 7))\n",
    "print(long_div(199, 23))"
   ]
  }
 ],
 "metadata": {
  "kernelspec": {
   "display_name": "Python 3",
   "language": "python",
   "name": "python3"
  },
  "language_info": {
   "codemirror_mode": {
    "name": "ipython",
    "version": 3
   },
   "file_extension": ".py",
   "mimetype": "text/x-python",
   "name": "python",
   "nbconvert_exporter": "python",
   "pygments_lexer": "ipython3",
   "version": "3.12.4"
  }
 },
 "nbformat": 4,
 "nbformat_minor": 2
}
