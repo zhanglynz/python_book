{
 "cells": [
  {
   "cell_type": "markdown",
   "metadata": {},
   "source": [
    "# Regular expression table\n",
    "\n",
    "NB: The following contents are from ChatGpt\n",
    "  \n",
    "| Regular Expression | Description |\n",
    "|--------------------|-------------|\n",
    "| `.` | Matches any character except a newline |\n",
    "| `^` | Matches the start of a string |\n",
    "| `$` | Matches the end of a string |\n",
    "| `\\d` | Matches any digit (0-9) |\n",
    "| `\\D` | Matches any non-digit character |\n",
    "| `\\w` | Matches any word character (letters, digits, underscore) |\n",
    "| `\\W` | Matches any non-word character |\n",
    "| `\\s` | Matches any whitespace (space, tab, newline) |\n",
    "| `\\S` | Matches any non-whitespace character |\n",
    "| `\\b` | Matches a word boundary |\n",
    "| `\\B` | Matches a non-word boundary |\n",
    "| `[abc]` | Matches any character inside the brackets (a, b, or c) |\n",
    "| `[^abc]` | Matches any character *not* inside the brackets |\n",
    "| `[a-z]` | Matches any lowercase letter from a to z |\n",
    "| `[A-Z]` | Matches any uppercase letter from A to Z |\n",
    "| `[0-9]` | Matches any digit from 0 to 9 |\n",
    "| `a|b` | Matches either 'a' or 'b' |\n",
    "| `()` | Groups expressions together for capturing |\n",
    "| `(?:...)` | Groups expressions together without capturing |\n",
    "| `a*` | Matches 'a' zero or more times |\n",
    "| `a+` | Matches 'a' one or more times |\n",
    "| `a?` | Matches 'a' zero or one time |\n",
    "| `a{3}` | Matches exactly 3 occurrences of 'a' |\n",
    "| `a{3,}` | Matches 3 or more occurrences of 'a' |\n",
    "| `a{3,5}` | Matches between 3 and 5 occurrences of 'a' |\n",
    "| `(?=...)` | Positive lookahead (ensures match is followed by ...) |\n",
    "| `(?!...)` | Negative lookahead (ensures match is *not* followed by ...) |\n",
    "| `(?<=...)` | Positive lookbehind (ensures match is preceded by ...) |\n",
    "| `(?<!...)` | Negative lookbehind (ensures match is *not* preceded by ...) |\n"
   ]
  },
  {
   "cell_type": "markdown",
   "metadata": {},
   "source": []
  }
 ],
 "metadata": {
  "language_info": {
   "name": "python"
  }
 },
 "nbformat": 4,
 "nbformat_minor": 2
}
