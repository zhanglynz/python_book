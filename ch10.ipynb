{
 "cells": [
  {
   "cell_type": "markdown",
   "id": "831bc811-40c2-474b-9311-b8b0f1aecdb5",
   "metadata": {},
   "source": [
    "# Tuples\n",
    "\n",
    "- A tuple: `t = (1, 23, 'a', 'b')`.\n",
    "- Tuples are **immutable**; tuples are **comparable** and **hashable** so we can sort lists of them and use tuples as key values in Python dictionaries.\n",
    "- A tuple with a singl element: `t = ('a', )` --- there must be a comma!\n",
    "- swap values in two variables:\n",
    "  ```python\n",
    "   a = 5\n",
    "   b = 8\n",
    "   print(a, b)\n",
    "   (a, b) = (b, a)\n",
    "   print(a, b)\n",
    "  ```\n",
    " - `list(a_dic.items())` returns a list of tuples, where the elements are the key-value pairs.\n",
    "    \n",
    "    ```python\n",
    "    a_dic = {'c': 10, 'a': 20, 'b': 30}\n",
    "    L = list(a_dic.items())\n",
    "    print(L)\n",
    "    L.sort()\n",
    "    print(L)\n",
    "    ```\n",
    "- using two variables in `for` loop\n",
    "  ```python\n",
    "   d = {'a': 10, 'b': 20, 'c': 0}\n",
    "   L = list()\n",
    "   for key, val in d.items() :\n",
    "       L.append((val, key))\n",
    "   L.sort(reverse = True)\n",
    "   print(L)\n",
    "  ```\n",
    "- using tuples as keys in dictionaries\n",
    "  ```python\n",
    "   directory = dict()\n",
    "   directory[last_name, first_name] = tel_nbr\n",
    "\n",
    "   for last, first in directory :\n",
    "       print(first, last, dirctory[last, first])\n",
    "   \n",
    "  ```\n",
    "- If we are passing a sequence as an argument to a function, using tuples reduces the potential for unexpected behavior due to aliasing.\n",
    "- list []; dictionary {}; tuple ()\n",
    "- An example:\n",
    "  ```python\n",
    "   d = {'a': 1, 'b': 2, 'c': 3}\n",
    "   list(d.keys()) # a list of characters, ['a', 'b', 'c']\n",
    "   list(d.values()) # a list of numbers, [1, 2, 3]\n",
    "   list(d.items()) # a list of tuples [('a', 1), ('b', 2), ('c', 3)]\n",
    "  ```"
   ]
  },
  {
   "cell_type": "code",
   "execution_count": 3,
   "id": "b25428f4-62f0-4609-8080-0ab3f9e87660",
   "metadata": {},
   "outputs": [
    {
     "name": "stdout",
     "output_type": "stream",
     "text": [
      "['t', 'h', 'a', 't', 'e', 'm', 'e', 'v', 'e', 'r', 'y', 'o', 'n', 'e', 'I', 'n', 't', 'e', 'r', 'e', 's', 't', 'i', 'n', 'g', 'l', 'y', 't', 'h', 'e']\n"
     ]
    },
    {
     "name": "stderr",
     "output_type": "stream",
     "text": [
      "<>:2: SyntaxWarning: invalid escape sequence '\\e'\n",
      "<>:2: SyntaxWarning: invalid escape sequence '\\e'\n",
      "/tmp/ipykernel_1267285/1062503463.py:2: SyntaxWarning: invalid escape sequence '\\e'\n",
      "  s = list(\"that{\\em everyone}, Interestingly, the\")\n"
     ]
    }
   ],
   "source": [
    "# from ChatGpt: only keep English letters\n",
    "s = list(\"that{\\em everyone}, Interestingly, the\")\n",
    "filtered_s = list(filter(lambda char: char.isalpha(), s))\n",
    "print(filtered_s)"
   ]
  },
  {
   "cell_type": "code",
   "execution_count": null,
   "id": "30695d94-0c27-4411-9680-4c8df6073e25",
   "metadata": {},
   "outputs": [],
   "source": []
  }
 ],
 "metadata": {
  "kernelspec": {
   "display_name": "My Python Environment",
   "language": "python",
   "name": "myenv"
  },
  "language_info": {
   "codemirror_mode": {
    "name": "ipython",
    "version": 3
   },
   "file_extension": ".py",
   "mimetype": "text/x-python",
   "name": "python",
   "nbconvert_exporter": "python",
   "pygments_lexer": "ipython3",
   "version": "3.12.4"
  }
 },
 "nbformat": 4,
 "nbformat_minor": 5
}
