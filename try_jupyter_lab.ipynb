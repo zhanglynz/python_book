{
 "cells": [
  {
   "cell_type": "markdown",
   "id": "1b327edc-1306-4208-a230-8ba23afebf5c",
   "metadata": {},
   "source": [
    "# Try On Jupyterlab\n",
    "\n",
    "\n",
    "![Notebook Vs. Lab](notebook_vs_lab.PNG)\n",
    "\n"
   ]
  },
  {
   "cell_type": "code",
   "execution_count": 1,
   "id": "f5b8557a-46e8-48a6-9056-a10533707eea",
   "metadata": {},
   "outputs": [
    {
     "name": "stdout",
     "output_type": "stream",
     "text": [
      "$dssoh*098\n"
     ]
    }
   ],
   "source": [
    "def rotate_word(s, shift = 3):\n",
    "    n = len(s)\n",
    "    new_s = ''\n",
    "    if n == 0:\n",
    "        print(\"The string cannot be empty! None is returned!\")\n",
    "        return None\n",
    "    else:\n",
    "        for i in range(n):\n",
    "            d = ord(s[i]) - ord('a')\n",
    "            if d >= 0 and d <= 25:\n",
    "                new_s = new_s + chr((d + shift) % 26 + ord('a'))\n",
    "            else:\n",
    "                new_s = new_s + s[i]\n",
    "        return new_s\n",
    "\n",
    "print(rotate_word(\"$apple*098\"))\n",
    "        "
   ]
  }
 ],
 "metadata": {
  "kernelspec": {
   "display_name": "Python 3.12.4",
   "language": "python",
   "name": "py3.12.4"
  },
  "language_info": {
   "codemirror_mode": {
    "name": "ipython",
    "version": 3
   },
   "file_extension": ".py",
   "mimetype": "text/x-python",
   "name": "python",
   "nbconvert_exporter": "python",
   "pygments_lexer": "ipython3",
   "version": "3.12.4"
  }
 },
 "nbformat": 4,
 "nbformat_minor": 5
}
