{
 "cells": [
  {
   "cell_type": "markdown",
   "id": "327f5340-3fa7-4f54-acbe-b0224ad12bb6",
   "metadata": {},
   "source": [
    "# Lists\n",
    "\n",
    "- a *list* is a sequence of values\n",
    "  ```python\n",
    "   my_list = [1, 2, 3, 'apple', 'banana', ['hello', 'world']]\n",
    "   empty_list = []\n",
    "  ```\n",
    "- In a string, the values are characters; in a list, they can be any type.\n",
    "- Unlike strings, **lists are mutable** because you can change the order of items in a list or reassign an item in a list.\n",
    "- `range(n)` returns a list of indices from 0 to n\n",
    "- List operations\n",
    "  ```python\n",
    "   a = [1, 2, 3]\n",
    "   b = [4, 5]\n",
    "   c = a + b # returns [1, 2, 3, 4, 5]\n",
    "   d = b * 2 # returns [4, 5, 4, 5]\n",
    "  ```\n",
    " - `a_list.sort()` arranges the elements of the list from low to high (NB: a_list has been modified)\n",
    " - `new_list = sorted(a_list)` **returns a new list**, where the elements are the same in `a_list` but in order from low to high\n",
    " - Deleting elements\n",
    "     ```python\n",
    "      a_list = ['a', 'b', 'c', 'd', 'e', 'f']\n",
    "      del a_list[1:5] # now a_list becomes ['a', 'f'] --- note the slice operator [1:5]\n",
    "     ```\n",
    " - A string is a sequence of characters and a list is a sequence of values, but a list of characters is not the same as a string. To convert from a string to a list of character, we can do `list(a_string)`\n",
    " - The `list` function breaks a string into **individual letters**. If we want to break a string into words, we use `split` **method**\n",
    " - **It is important to distinguish between operations that modify lists and operations that create new lists.** For example, `append` method modifies a list, but the `+` operator creates a new list.\n",
    " - If we want to use a method like `sort` that modifies the argument, but we need to keep the original list as well, we can make a copy:\n",
    "   ```python\n",
    "    orig = t[:]\n",
    "    t.sort()\n",
    "   ```\n",
    "  - When we are programming, we must always be thinking, \"What might go wrong?\" "
   ]
  },
  {
   "cell_type": "code",
   "execution_count": 1,
   "id": "f21273c0-fdb7-4621-8ebe-34fe63b82a6c",
   "metadata": {},
   "outputs": [
    {
     "data": {
      "text/plain": [
       "range(0, 8)"
      ]
     },
     "execution_count": 1,
     "metadata": {},
     "output_type": "execute_result"
    }
   ],
   "source": [
    "range(8)"
   ]
  },
  {
   "cell_type": "code",
   "execution_count": 2,
   "id": "8e43c02a-b635-45bf-8997-a0a52d597ea1",
   "metadata": {},
   "outputs": [
    {
     "data": {
      "text/plain": [
       "range"
      ]
     },
     "execution_count": 2,
     "metadata": {},
     "output_type": "execute_result"
    }
   ],
   "source": [
    "type(range(8))\n"
   ]
  },
  {
   "cell_type": "code",
   "execution_count": null,
   "id": "28860b07-33ca-4661-a233-63629755f60b",
   "metadata": {},
   "outputs": [],
   "source": []
  }
 ],
 "metadata": {
  "kernelspec": {
   "display_name": "My Python Environment",
   "language": "python",
   "name": "myenv"
  },
  "language_info": {
   "codemirror_mode": {
    "name": "ipython",
    "version": 3
   },
   "file_extension": ".py",
   "mimetype": "text/x-python",
   "name": "python",
   "nbconvert_exporter": "python",
   "pygments_lexer": "ipython3",
   "version": "3.12.4"
  }
 },
 "nbformat": 4,
 "nbformat_minor": 5
}
