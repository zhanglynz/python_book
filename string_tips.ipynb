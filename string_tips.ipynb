{
 "cells": [
  {
   "cell_type": "markdown",
   "id": "281a4495-6844-46b1-9b4d-d72143e5d5b4",
   "metadata": {},
   "source": [
    "# String Tips\n",
    "\n",
    "## Get a string reversed"
   ]
  },
  {
   "cell_type": "code",
   "execution_count": 1,
   "id": "c8179802-4a35-429a-a339-2be26b4312f8",
   "metadata": {},
   "outputs": [
    {
     "data": {
      "text/plain": [
       "'elppa'"
      ]
     },
     "execution_count": 1,
     "metadata": {},
     "output_type": "execute_result"
    }
   ],
   "source": [
    "def rev_str(s) :\n",
    "    return s[::-1]\n",
    "\n",
    "# test\n",
    "s = 'apple'\n",
    "rev_str(s)"
   ]
  },
  {
   "cell_type": "markdown",
   "id": "eba303c9-e249-4600-868c-56d49b96a12d",
   "metadata": {},
   "source": [
    "## Strip out all spaces\n"
   ]
  },
  {
   "cell_type": "code",
   "execution_count": 6,
   "id": "788e201b-4474-4981-a73d-359695909096",
   "metadata": {},
   "outputs": [
    {
     "name": "stdout",
     "output_type": "stream",
     "text": [
      "This     is    a    strange    sentence.    \n",
      "   This     is    a    strange    sentence.\n",
      "This     is    a    strange    sentence.\n",
      "False\n",
      "This is a strange sentence.\n"
     ]
    }
   ],
   "source": [
    "def my_strip(s) :\n",
    "    return \" \".join(s.split())\n",
    "\n",
    "# test\n",
    "ss = \"   This     is    a    strange    sentence.    \"\n",
    "print(ss.lstrip())\n",
    "print(ss.rstrip())\n",
    "print(ss.strip())\n",
    "print(ss.lstrip() is ss.strip())\n",
    "print(my_strip(ss))"
   ]
  }
 ],
 "metadata": {
  "kernelspec": {
   "display_name": "Python 3 (ipykernel)",
   "language": "python",
   "name": "python3"
  },
  "language_info": {
   "codemirror_mode": {
    "name": "ipython",
    "version": 3
   },
   "file_extension": ".py",
   "mimetype": "text/x-python",
   "name": "python",
   "nbconvert_exporter": "python",
   "pygments_lexer": "ipython3",
   "version": "3.12.4"
  }
 },
 "nbformat": 4,
 "nbformat_minor": 5
}
