{
 "cells": [
  {
   "cell_type": "markdown",
   "id": "474ae8e2-1c4d-46ac-b036-da2345763915",
   "metadata": {},
   "source": [
    "# Regular expressions\n",
    "\n",
    "- Using library/module `re`\n",
    "  ```python\n",
    "   import re\n",
    "   s = 'ioewr987hjfowijrw;ofisopyuh3we'\n",
    "   if re.search('[0-9]', s) :\n",
    "       print(\"a number found\")\n",
    "\n",
    "   re.findall(\"([0-9]+)\", s) # return a list\n",
    "  ```\n",
    "- Regular expression table:\n",
    "  \n",
    "| Regular Expression | Description |\n",
    "|--------------------|-------------|\n",
    "| `.` | Matches any character except a newline |\n",
    "| `^` | Matches the start of a string |\n",
    "| `$` | Matches the end of a string |\n",
    "| `\\d` | Matches any digit (0-9) |\n",
    "| `\\D` | Matches any non-digit character |\n",
    "| `\\w` | Matches any word character (letters, digits, underscore) |\n",
    "| `\\W` | Matches any non-word character |\n",
    "| `\\s` | Matches any whitespace (space, tab, newline) |\n",
    "| `\\S` | Matches any non-whitespace character |\n",
    "| `\\b` | Matches a word boundary |\n",
    "| `\\B` | Matches a non-word boundary |\n",
    "| `[abc]` | Matches any character inside the brackets (a, b, or c) |\n",
    "| `[^abc]` | Matches any character *not* inside the brackets |\n",
    "| `[a-z]` | Matches any lowercase letter from a to z |\n",
    "| `[A-Z]` | Matches any uppercase letter from A to Z |\n",
    "| `[0-9]` | Matches any digit from 0 to 9 |\n",
    "| `a|b` | Matches either 'a' or 'b' |\n",
    "| `()` | Groups expressions together for capturing |\n",
    "| `(?:...)` | Groups expressions together without capturing |\n",
    "| `a*` | Matches 'a' zero or more times |\n",
    "| `a+` | Matches 'a' one or more times |\n",
    "| `a?` | Matches 'a' zero or one time |\n",
    "| `a{3}` | Matches exactly 3 occurrences of 'a' |\n",
    "| `a{3,}` | Matches 3 or more occurrences of 'a' |\n",
    "| `a{3,5}` | Matches between 3 and 5 occurrences of 'a' |\n",
    "| `(?=...)` | Positive lookahead (ensures match is followed by ...) |\n",
    "| `(?!...)` | Negative lookahead (ensures match is *not* followed by ...) |\n",
    "| `(?<=...)` | Positive lookbehind (ensures match is preceded by ...) |\n",
    "| `(?<!...)` | Negative lookbehind (ensures match is *not* preceded by ...) |\n"
   ]
  },
  {
   "cell_type": "code",
   "execution_count": null,
   "id": "766a416f-38fc-4d79-aa17-c55c60ba37a4",
   "metadata": {},
   "outputs": [],
   "source": []
  },
  {
   "cell_type": "code",
   "execution_count": null,
   "id": "4388c4bb-4e68-4369-87a2-569efa3f92e0",
   "metadata": {},
   "outputs": [],
   "source": []
  }
 ],
 "metadata": {
  "kernelspec": {
   "display_name": "My Python Environment",
   "language": "python",
   "name": "myenv"
  },
  "language_info": {
   "codemirror_mode": {
    "name": "ipython",
    "version": 3
   },
   "file_extension": ".py",
   "mimetype": "text/x-python",
   "name": "python",
   "nbconvert_exporter": "python",
   "pygments_lexer": "ipython3",
   "version": "3.12.4"
  }
 },
 "nbformat": 4,
 "nbformat_minor": 5
}
