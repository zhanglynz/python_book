{
 "cells": [
  {
   "cell_type": "markdown",
   "id": "f426e2bd-44c6-40aa-937b-0ed61f359ae5",
   "metadata": {},
   "source": [
    "# Dictionaries\n",
    "\n",
    "- In a dictionary, the indices can be (almost) any type. In a list, the indices must be integers (starting from 0).\n",
    "- Dictiary: key-value pairs\n",
    "- Example:\n",
    "  ```python\n",
    "   empty_dic = dict()\n",
    "\n",
    "   eng2spanish = {'one': 'uno', 'two': 'dos', 'three': 'tres'}\n",
    "   pirnt(eng2spanish.keys()) # keys\n",
    "   print(eng2spanish.values()) # values\n",
    "   \n",
    "  ```\n",
    "- The order of items in a dictionary is unpredictable.\n",
    "- The `len` works on dictionaries.\n",
    "- The `in` works on dictionaries; it tells you whether something appears as a *key* in the dictionary\n",
    "- `list(a_dict.values())` returns a list, that contains `dic_values` in it\n",
    "- using `a_dic.get(a_key_value, a_default_value)` : if the a_key_value appears in the dictionary then return the corresponding value; otherwise it the returns the default value\n",
    "- **One of the common uses of a dictionary is to count the occurrence of words in a text file.**\n",
    "- `line.translate(line.maketrans(fromstr, tostr, deletestr))`\n",
    "  ```python\n",
    "   line = line.translate(line.maketrans('', '', string.punctuation)) # remove punctuation\n",
    "   line = line.lower() # lower case\n",
    "   words = line.split() # words\n",
    "  ```"
   ]
  },
  {
   "cell_type": "code",
   "execution_count": 4,
   "id": "b66a9827-a3a0-49ff-9deb-b2f73302806e",
   "metadata": {},
   "outputs": [
    {
     "data": {
      "text/plain": [
       "'uno'"
      ]
     },
     "execution_count": 4,
     "metadata": {},
     "output_type": "execute_result"
    }
   ],
   "source": [
    "eng2spanish = {'one': 'uno', 'two': 'dos', 'three': 'tres'}\n",
    "eng2spanish.get('one', 'tres')"
   ]
  },
  {
   "cell_type": "code",
   "execution_count": null,
   "id": "58c83ec1-f1ed-4787-b91b-2b140b94b5e7",
   "metadata": {},
   "outputs": [],
   "source": []
  },
  {
   "cell_type": "code",
   "execution_count": null,
   "id": "0092fc81-87ec-4ea1-86f0-ab3e6d72f3a2",
   "metadata": {},
   "outputs": [],
   "source": []
  }
 ],
 "metadata": {
  "kernelspec": {
   "display_name": "My Python Environment",
   "language": "python",
   "name": "myenv"
  },
  "language_info": {
   "codemirror_mode": {
    "name": "ipython",
    "version": 3
   },
   "file_extension": ".py",
   "mimetype": "text/x-python",
   "name": "python",
   "nbconvert_exporter": "python",
   "pygments_lexer": "ipython3",
   "version": "3.12.4"
  }
 },
 "nbformat": 4,
 "nbformat_minor": 5
}
