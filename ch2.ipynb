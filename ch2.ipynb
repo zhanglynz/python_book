{
 "cells": [
  {
   "cell_type": "markdown",
   "id": "61cba118-1e67-4277-b53f-5831dc76b7b7",
   "metadata": {},
   "source": [
    "# Variables, expressions, and statements\n",
    "\n",
    "- A *value* is one of the basic things a program works with\n",
    "- A *variable* is a name that refers to a value\n",
    "- We can use `type()` to check type of a value or variable\n",
    "-  **Semantic error: the code runs without producing an error message, but it does not do the \"right\" thing**\n",
    "-  Variable names can contain both letters and numbers, but they cannot start with a number\n",
    "-  Variable names can start with an underscore character, but we generally avoid doing this unless we are writing *library code* for others to use\n",
    "-  **It's a good idea to begin variable names with a lowercase letter**\n",
    "-  Python reserves 33 key words, such as `and`, `if`, `True`, `def`\n",
    "-  A *statement* is a unit of code that the Python interpreter can execute\n",
    "-  The **exponentiation operator** in Python is `**`, e.g. `2**5`\n",
    "-  The **modulus operator** in Python is `%`, e.g. `12 % 7` (returns 5); the **quotient operator** is `//`, e.g. `12 // 7` (returns 1)\n",
    "-  In Python `+` is a string operator; it performs *concatenation*, e.g. ` \"app\" + \"le\" ` (returns \"apple\")\n",
    "-  `#` is used for **commenting**---everything from the `#` to the end of line is ignored; it has no effect on the program\n",
    "-  Python is case sensitive, that is `a` is different `A`\n",
    "-  A **module** is a collection of **variables** and **functions**. \n",
    "  \n"
   ]
  },
  {
   "cell_type": "code",
   "execution_count": 1,
   "id": "755ff822-e071-4d4f-bd90-4cbf929df7db",
   "metadata": {},
   "outputs": [
    {
     "data": {
      "text/plain": [
       "12"
      ]
     },
     "execution_count": 1,
     "metadata": {},
     "output_type": "execute_result"
    }
   ],
   "source": [
    "round(12.5)"
   ]
  },
  {
   "cell_type": "code",
   "execution_count": 2,
   "id": "8a66f34f-3a8c-462d-8706-d1058e4dbfa4",
   "metadata": {},
   "outputs": [
    {
     "data": {
      "text/plain": [
       "0"
      ]
     },
     "execution_count": 2,
     "metadata": {},
     "output_type": "execute_result"
    }
   ],
   "source": [
    "round(0.5)"
   ]
  },
  {
   "cell_type": "code",
   "execution_count": 3,
   "id": "d35f0683-ee0c-4fab-8625-f1e71b7ed2ca",
   "metadata": {},
   "outputs": [
    {
     "data": {
      "text/plain": [
       "52"
      ]
     },
     "execution_count": 3,
     "metadata": {},
     "output_type": "execute_result"
    }
   ],
   "source": [
    "round(51.5)"
   ]
  },
  {
   "cell_type": "code",
   "execution_count": 4,
   "id": "4a089c58-c3e6-43c1-b8e0-0dccc10bbbfd",
   "metadata": {},
   "outputs": [
    {
     "data": {
      "text/plain": [
       "2"
      ]
     },
     "execution_count": 4,
     "metadata": {},
     "output_type": "execute_result"
    }
   ],
   "source": [
    "round(1.5)"
   ]
  },
  {
   "cell_type": "code",
   "execution_count": 5,
   "id": "7f862272-c202-4d44-9caf-627a00d5e3ef",
   "metadata": {},
   "outputs": [
    {
     "data": {
      "text/plain": [
       "2"
      ]
     },
     "execution_count": 5,
     "metadata": {},
     "output_type": "execute_result"
    }
   ],
   "source": [
    "round(2.5)"
   ]
  },
  {
   "cell_type": "code",
   "execution_count": 6,
   "id": "e17ee835-6f43-45a7-a549-eecea7ab4647",
   "metadata": {},
   "outputs": [
    {
     "data": {
      "text/plain": [
       "float"
      ]
     },
     "execution_count": 6,
     "metadata": {},
     "output_type": "execute_result"
    }
   ],
   "source": [
    "type(1.6)"
   ]
  },
  {
   "cell_type": "code",
   "execution_count": 7,
   "id": "fc508743-cbb9-487f-b868-efd89f0c93ee",
   "metadata": {},
   "outputs": [],
   "source": [
    "x = 123.4;"
   ]
  },
  {
   "cell_type": "code",
   "execution_count": null,
   "id": "3345fa7e-9ea1-413d-b429-75bc8a695ca0",
   "metadata": {},
   "outputs": [],
   "source": []
  }
 ],
 "metadata": {
  "kernelspec": {
   "display_name": "My Python Environment",
   "language": "python",
   "name": "myenv"
  },
  "language_info": {
   "codemirror_mode": {
    "name": "ipython",
    "version": 3
   },
   "file_extension": ".py",
   "mimetype": "text/x-python",
   "name": "python",
   "nbconvert_exporter": "python",
   "pygments_lexer": "ipython3",
   "version": "3.12.4"
  }
 },
 "nbformat": 4,
 "nbformat_minor": 5
}
