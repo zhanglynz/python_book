{
 "cells": [
  {
   "cell_type": "markdown",
   "id": "d0001100-a058-4761-9f0a-bc082f442675",
   "metadata": {},
   "source": [
    "# Strings\n",
    "\n",
    "- A string is a **sequence of characters**. We can access the characters one at a time with the **bracket operator**.\n",
    "- To have *length*, we use the function `len()`\n",
    "- The index of a string `s` ranges from 0 to `len(s) - 1`\n",
    "- String slice: `s[m:n]` returns `s[m], s[m+1], ..., s[n-1]`. If m >= n, then returns an **empty string** (a string with length 0). `s[:n]` returns `s[0], ..., s[n-1]`. `s[m:]` returns `s[m], ..., s[len(s) - 1]`. `s[-1]` returns `s[len(s) - 1]`\n",
    "- Empty string: a string with no character and length 0, represented by two quotation marks. Example: `s = \"\"`. **In this case, we cannot do `s[0]`**\n",
    "- Strings are immutable, that is, `s = \"apple\"`, you cannot do `s[0] = b`.\n",
    "- `\"a\" in \"apple\"` returns `True`, that is, `in` is a boolean operator that takes two strings and return `True` if the first appears as a sub-string in the second.\n",
    "- The **comparison operators** (e.g '==', '>' and '<=') work on strings.\n",
    "- String methods: `dir(a_string)` lists the methods; we use `help(str.upper)` to get help on a method (e.g. `upper`) for string.\n",
    "- Example: `s = 'apple'`, `new_string = s.upper()` Now `new_string` is 'APPLE'.\n",
    "- Example: `line = \"  here we go  \"`, `line.strip()` gives \"here we go\"\n",
    "- Format operator: When applied to integers, `%` is the modulus operator. But when the first operand is a string, `%` is the **format operator**.\n",
    "- Example: `monkey = 40`; `\"%d\" % monkey` gives string `\"42\"`\n",
    "- Example: `\"In %d years I have spotted %g %s\" % (3, 2.5, 'houses!')` gives a string: \"In 3 years I have spotted 2.5 houses!\""
   ]
  },
  {
   "cell_type": "code",
   "execution_count": 1,
   "id": "a663783f-c361-46ae-8a9a-11c913928167",
   "metadata": {},
   "outputs": [
    {
     "ename": "IndexError",
     "evalue": "string index out of range",
     "output_type": "error",
     "traceback": [
      "\u001b[0;31m---------------------------------------------------------------------------\u001b[0m",
      "\u001b[0;31mIndexError\u001b[0m                                Traceback (most recent call last)",
      "Cell \u001b[0;32mIn[1], line 3\u001b[0m\n\u001b[1;32m      1\u001b[0m \u001b[38;5;66;03m# Empty string\u001b[39;00m\n\u001b[1;32m      2\u001b[0m s \u001b[38;5;241m=\u001b[39m \u001b[38;5;124m\"\u001b[39m\u001b[38;5;124m\"\u001b[39m\n\u001b[0;32m----> 3\u001b[0m \u001b[38;5;28mprint\u001b[39m(\u001b[43ms\u001b[49m\u001b[43m[\u001b[49m\u001b[38;5;241;43m0\u001b[39;49m\u001b[43m]\u001b[49m)\n",
      "\u001b[0;31mIndexError\u001b[0m: string index out of range"
     ]
    }
   ],
   "source": [
    "# Empty string\n",
    "s = \"\"\n",
    "print(s[0])"
   ]
  },
  {
   "cell_type": "code",
   "execution_count": null,
   "id": "06ff6043-bd33-45c9-b038-a1161d6fe226",
   "metadata": {},
   "outputs": [],
   "source": []
  }
 ],
 "metadata": {
  "kernelspec": {
   "display_name": "My Python Environment",
   "language": "python",
   "name": "myenv"
  },
  "language_info": {
   "codemirror_mode": {
    "name": "ipython",
    "version": 3
   },
   "file_extension": ".py",
   "mimetype": "text/x-python",
   "name": "python",
   "nbconvert_exporter": "python",
   "pygments_lexer": "ipython3",
   "version": "3.12.4"
  }
 },
 "nbformat": 4,
 "nbformat_minor": 5
}
