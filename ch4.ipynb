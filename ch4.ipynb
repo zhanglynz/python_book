{
 "cells": [
  {
   "cell_type": "markdown",
   "id": "63a09790-726d-4f4e-bf7b-a1d74a54de0a",
   "metadata": {},
   "source": [
    "# Functions\n",
    "\n",
    "- A *function* is named sequence of statements that performs a computation.\n",
    "- Built-in functions: `type`, `max`, `min`, `len`, `int`, `str`\n",
    "- Functions in `random` module: `random.random()`, `random.randint()`, `random.choice()`\n",
    "- Functions in `math` module: `math.log10()`, `math.sin()`\n",
    "- *fruitful function* has `return` statement at the end; *void function* does not have `return` statement\n",
    "  "
   ]
  },
  {
   "cell_type": "code",
   "execution_count": null,
   "id": "631b098d-5097-471f-af25-fa379f46d0c2",
   "metadata": {},
   "outputs": [],
   "source": []
  }
 ],
 "metadata": {
  "kernelspec": {
   "display_name": "My Python Environment",
   "language": "python",
   "name": "myenv"
  },
  "language_info": {
   "codemirror_mode": {
    "name": "ipython",
    "version": 3
   },
   "file_extension": ".py",
   "mimetype": "text/x-python",
   "name": "python",
   "nbconvert_exporter": "python",
   "pygments_lexer": "ipython3",
   "version": "3.12.4"
  }
 },
 "nbformat": 4,
 "nbformat_minor": 5
}
