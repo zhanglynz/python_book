{
 "cells": [
  {
   "cell_type": "markdown",
   "id": "e7d266b5-1cd5-48a9-94ad-72277613b16b",
   "metadata": {},
   "source": [
    "# Files\n",
    "\n",
    "- Open a file: `f_handle = open(\"file_name\")`\n",
    "- `\\n` is **a character**\n",
    "- Reading files line by line:\n",
    "  ```python\n",
    "   f_handle = open(\"file_name\")\n",
    "   count = 0\n",
    "   for line in f_handle :\n",
    "       count = count + 1\n",
    "    print('Line count:', count)\n",
    "  ```\n",
    " - If you know the file is relatively small compared with the size of main memory, then you can read the whole file into one string using the method `read`:\n",
    "   ```python\n",
    "    f_handle = open(\"file_name\")\n",
    "    a_string = f_handle.read()\n",
    "    print(len(a_string))\n",
    "   ```\n",
    "- Searching trough a file:\n",
    "  ```python\n",
    "   f_handle = open(\"file_name\")\n",
    "   for line in f_handle :\n",
    "       if line.startswith('From:') :\n",
    "           line = line.rstrip() # to strip '\\n' and white space from the right\n",
    "           print(line)    \n",
    "  ```\n",
    "- Using `try` and `except`\n",
    "  ```python\n",
    "   f_name = input(\"Enter the file name: \")\n",
    "   try :\n",
    "       f_handle = open(f_name)\n",
    "    except :\n",
    "       message = \"%s cannot be opened!\" % f_name\n",
    "       print(message)\n",
    " \n",
    "  ```\n",
    "- Writing files:\n",
    "  ```python\n",
    "   f_handle = open(\"output.txt\", 'w')\n",
    "   line_1 = \"This is a line for testing.\\n\"\n",
    "   f_handle.write(line_1)\n",
    "   line_2 = \"The second line for testing.\\n\"\n",
    "   f_handle.write(line_2)\n",
    "   f_handle.close\n",
    "  ```\n",
    "  **IMPORTANT: If the file already exists, opening it in write mode clears out the old data and starts fresh, so be careful! If the file does not exist, a new one is created.**\n",
    "    "
   ]
  },
  {
   "cell_type": "code",
   "execution_count": 1,
   "id": "07dca7ba-2356-42f4-8164-5563dfb3e677",
   "metadata": {},
   "outputs": [
    {
     "name": "stdout",
     "output_type": "stream",
     "text": [
      "Defaulting to user installation because normal site-packages is not writeable\n",
      "Looking in indexes: https://prtprdppm01.stats.govt.nz/all-pypi/latest/simple\n",
      "\u001b[31mERROR: Could not find a version that satisfies the requirement urllib2 (from versions: none)\u001b[0m\u001b[31m\n",
      "\u001b[0m\u001b[31mERROR: No matching distribution found for urllib2\u001b[0m\u001b[31m\n",
      "\u001b[0m"
     ]
    }
   ],
   "source": [
    "!pip install urllib2"
   ]
  },
  {
   "cell_type": "code",
   "execution_count": null,
   "id": "8ecde6c2-1b87-4da1-ba0a-c09c67b6dbed",
   "metadata": {},
   "outputs": [],
   "source": []
  },
  {
   "cell_type": "code",
   "execution_count": null,
   "id": "80f667fb-9a9a-4a32-812d-d2fe3856ef8c",
   "metadata": {},
   "outputs": [],
   "source": []
  }
 ],
 "metadata": {
  "kernelspec": {
   "display_name": "My Python Environment",
   "language": "python",
   "name": "myenv"
  },
  "language_info": {
   "codemirror_mode": {
    "name": "ipython",
    "version": 3
   },
   "file_extension": ".py",
   "mimetype": "text/x-python",
   "name": "python",
   "nbconvert_exporter": "python",
   "pygments_lexer": "ipython3",
   "version": "3.12.4"
  }
 },
 "nbformat": 4,
 "nbformat_minor": 5
}
