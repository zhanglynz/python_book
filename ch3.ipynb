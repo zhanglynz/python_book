{
 "cells": [
  {
   "cell_type": "markdown",
   "id": "a6b3235c-6d7f-488d-a3db-b32f087a2d93",
   "metadata": {},
   "source": [
    "# Conditional execution\n",
    "\n",
    "- Boolean expressions: `x == y`, `x != y`, `x > y`, `x < y`, `x >= y`, `x <= y`, `x is y`, `x is not y`\n",
    "- Logical operators: `and`, `or`, `not`\n",
    "- Any nonzero number is interpreted as `True`\n",
    "- Conditional execution: using `if`, `else`, `elif` --- **Don't forget \":\"**\n",
    "- Use `try :` and `except :`"
   ]
  }
 ],
 "metadata": {
  "kernelspec": {
   "display_name": "My Python Environment",
   "language": "python",
   "name": "myenv"
  },
  "language_info": {
   "codemirror_mode": {
    "name": "ipython",
    "version": 3
   },
   "file_extension": ".py",
   "mimetype": "text/x-python",
   "name": "python",
   "nbconvert_exporter": "python",
   "pygments_lexer": "ipython3",
   "version": "3.12.4"
  }
 },
 "nbformat": 4,
 "nbformat_minor": 5
}
