{
 "cells": [
  {
   "cell_type": "markdown",
   "id": "e07abcd1-0b05-4f7f-a642-847d1ce77224",
   "metadata": {},
   "source": [
    "# First Try on Jupyter Notebook\n",
    "\n",
    "## Quick instructions from ChatGpt\n",
    "\n",
    "Create a New Notebook\n",
    "\n",
    "- In the Jupyter interface, click New → Python 3 (or any installed Python kernel).\n",
    "- A new notebook with an empty cell will appear.\n",
    "\n",
    "**Using Cells**\n",
    "\n",
    "Code cells: Write and run Python code. Example:\n"
   ]
  },
  {
   "cell_type": "code",
   "execution_count": 1,
   "id": "ba72fb1a-6bc4-4808-bc31-adfc34297ae5",
   "metadata": {},
   "outputs": [
    {
     "name": "stdout",
     "output_type": "stream",
     "text": [
      "Hellow World!\n"
     ]
    }
   ],
   "source": [
    "print(\"Hellow World!\")"
   ]
  },
  {
   "cell_type": "markdown",
   "id": "ede84f0b-7c66-434e-8c46-5644a36764b5",
   "metadata": {
    "jupyter": {
     "source_hidden": true
    }
   },
   "source": [
    "Markdown cells: For notes and explanations.\n",
    "\n",
    "Change a cell type to Markdown \n",
    "\n",
    "Run the cell (Shift + Enter) to render it.\n"
   ]
  },
  {
   "cell_type": "markdown",
   "id": "d3af3627-e052-4ddc-9865-5a72db6ea1d1",
   "metadata": {},
   "source": [
    "**Saving Your Work**\n",
    "\n",
    "- Click File → Save and Checkpoint. Jupyter saves files as .ipynb (Notebook format).\n",
    "- You can also Download As (PDF, Markdown, Python, etc.)."
   ]
  },
  {
   "cell_type": "markdown",
   "id": "cbce9764-2c09-4dd4-87d2-d6f275e68bd1",
   "metadata": {},
   "source": [
    "**Exporting to Quarto Later**\n",
    "\n",
    "Since you're interested in Quarto, you can export your notes as Markdown:\n",
    "\n",
    "Click File → Download As → Markdown (.md)\n",
    "\n",
    "Later, you can use Quarto to convert it into a book format."
   ]
  },
  {
   "cell_type": "markdown",
   "id": "4f75acb1-c91b-44c9-8aa6-035f90109b47",
   "metadata": {},
   "source": [
    "**Exiting Jupyter Notebook**\n",
    "\n",
    "- Save your work.\n",
    "- Click File → Close and Halt (to stop a running notebook).\n",
    "- In the terminal, press Ctrl + C twice to shut down the server."
   ]
  },
  {
   "cell_type": "code",
   "execution_count": null,
   "id": "53f7177b-0986-471e-93cd-3399b533bf91",
   "metadata": {},
   "outputs": [],
   "source": []
  }
 ],
 "metadata": {
  "kernelspec": {
   "display_name": "Python 3.12.4",
   "language": "python",
   "name": "py3.12.4"
  },
  "language_info": {
   "codemirror_mode": {
    "name": "ipython",
    "version": 3
   },
   "file_extension": ".py",
   "mimetype": "text/x-python",
   "name": "python",
   "nbconvert_exporter": "python",
   "pygments_lexer": "ipython3",
   "version": "3.12.4"
  }
 },
 "nbformat": 4,
 "nbformat_minor": 5
}
