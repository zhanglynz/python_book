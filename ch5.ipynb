{
 "cells": [
  {
   "cell_type": "markdown",
   "id": "f574e546-77a1-468e-940f-45eec0ce6a9c",
   "metadata": {},
   "source": [
    "# Iteration\n",
    "\n",
    "- Use `\"while :\"`; use  `if` and `break`; use `if` and `continue`\n",
    "- Use `for` and `in`"
   ]
  },
  {
   "cell_type": "code",
   "execution_count": null,
   "id": "103d7e4c-5e12-4d3b-bed7-6fdcbf7eff40",
   "metadata": {},
   "outputs": [],
   "source": []
  }
 ],
 "metadata": {
  "kernelspec": {
   "display_name": "My Python Environment",
   "language": "python",
   "name": "myenv"
  },
  "language_info": {
   "codemirror_mode": {
    "name": "ipython",
    "version": 3
   },
   "file_extension": ".py",
   "mimetype": "text/x-python",
   "name": "python",
   "nbconvert_exporter": "python",
   "pygments_lexer": "ipython3",
   "version": "3.12.4"
  }
 },
 "nbformat": 4,
 "nbformat_minor": 5
}
