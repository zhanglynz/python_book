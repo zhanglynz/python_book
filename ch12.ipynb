{
 "cells": [
  {
   "cell_type": "markdown",
   "id": "223f91c5-9561-49b9-9b64-230b967e31d5",
   "metadata": {},
   "source": [
    "# Networked programs\n",
    "\n",
    "- In Python, a *socket* is much like a file, except that a single socket provides a two-way connection  between two programs. We can both read from and write to the same socket. If you write something to a socket, it is sent to the application at the other end of the socket. If you read from the socket, you are given the data which the other application has sent.\n",
    "- "
   ]
  }
 ],
 "metadata": {
  "kernelspec": {
   "display_name": "My Python Environment",
   "language": "python",
   "name": "myenv"
  },
  "language_info": {
   "codemirror_mode": {
    "name": "ipython",
    "version": 3
   },
   "file_extension": ".py",
   "mimetype": "text/x-python",
   "name": "python",
   "nbconvert_exporter": "python",
   "pygments_lexer": "ipython3",
   "version": "3.12.4"
  }
 },
 "nbformat": 4,
 "nbformat_minor": 5
}
